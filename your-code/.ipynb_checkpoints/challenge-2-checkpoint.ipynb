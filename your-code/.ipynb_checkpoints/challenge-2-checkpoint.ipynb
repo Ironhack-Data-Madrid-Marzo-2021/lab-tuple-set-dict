{
 "cells": [
  {
   "cell_type": "markdown",
   "metadata": {},
   "source": [
    "## Challenge 2: Sets\n",
    "\n",
    "There are a lot to learn about Python Sets and the information presented in the lesson is limited due to its length. To learn Python Sets in depth you are strongly encouraged to review the W3Schools tutorial on [Python Sets Examples and Methods](https://www.w3schools.com/python/python_sets.asp) before you work on this lab. Some difficult questions in this lab have their solutions in the W3Schools tutorial.\n",
    "\n",
    "#### First, import the Python `random` libary"
   ]
  },
  {
   "cell_type": "code",
   "execution_count": 69,
   "metadata": {
    "collapsed": true
   },
   "outputs": [],
   "source": [
    "import random"
   ]
  },
  {
   "cell_type": "markdown",
   "metadata": {},
   "source": [
    "#### In the cell below, create a list named `sample_list_1` with 80 random values. \n",
    "\n",
    "Requirements:\n",
    "\n",
    "* Each value is an integer falling between 0 and 100.\n",
    "* Each value in the list is unique.\n",
    "\n",
    "Print `sample_list_1` to review its values\n",
    "\n",
    "*Hint: use `random.sample` ([reference](https://docs.python.org/3/library/random.html#random.sample)).*"
   ]
  },
  {
   "cell_type": "code",
   "execution_count": 70,
   "metadata": {},
   "outputs": [
    {
     "name": "stdout",
     "output_type": "stream",
     "text": [
      "80\n",
      "[48, 62, 5, 25, 54, 30, 60, 67, 11, 18, 75, 32, 94, 68, 46, 79, 90, 71, 93, 2, 36, 42, 97, 9, 56, 27, 47, 41, 33, 70, 64, 23, 22, 13, 59, 65, 49, 37, 4, 40, 61, 20, 74, 6, 39, 88, 83, 81, 19, 7, 0, 66, 78, 87, 86, 35, 63, 15, 100, 96, 91, 8, 53, 38, 72, 98, 29, 85, 95, 1, 44, 31, 45, 99, 12, 26, 10, 73, 21, 69]\n"
     ]
    }
   ],
   "source": [
    "lst = range(101)\n",
    "sample_list_1 = random.sample(lst, 80)\n",
    "print(len(sample_list_1))\n",
    "print(sample_list_1)\n",
    "\n",
    "for num in sample_list_1:\n",
    "    if sample_list_1.count(num) > 1:\n",
    "        print(\"appears more than once\")\n"
   ]
  },
  {
   "cell_type": "markdown",
   "metadata": {},
   "source": [
    "#### Convert `sample_list_1` to a set called `set1`. Print the length of the set. Is its length still 80?"
   ]
  },
  {
   "cell_type": "code",
   "execution_count": 71,
   "metadata": {},
   "outputs": [
    {
     "name": "stdout",
     "output_type": "stream",
     "text": [
      "{0, 1, 2, 4, 5, 6, 7, 8, 9, 10, 11, 12, 13, 15, 18, 19, 20, 21, 22, 23, 25, 26, 27, 29, 30, 31, 32, 33, 35, 36, 37, 38, 39, 40, 41, 42, 44, 45, 46, 47, 48, 49, 53, 54, 56, 59, 60, 61, 62, 63, 64, 65, 66, 67, 68, 69, 70, 71, 72, 73, 74, 75, 78, 79, 81, 83, 85, 86, 87, 88, 90, 91, 93, 94, 95, 96, 97, 98, 99, 100}\n",
      "80\n"
     ]
    }
   ],
   "source": [
    "# Your code here\n",
    "set1 = set(sample_list_1)\n",
    "print(set1)\n",
    "print(len(set1))"
   ]
  },
  {
   "cell_type": "markdown",
   "metadata": {},
   "source": [
    "#### Create another list named `sample_list_2` with 80 random values.\n",
    "\n",
    "Requirements:\n",
    "\n",
    "* Each value is an integer falling between 0 and 100.\n",
    "* The values in the list don't have to be unique.\n",
    "\n",
    "*Hint: Use a FOR loop.*"
   ]
  },
  {
   "cell_type": "code",
   "execution_count": 72,
   "metadata": {},
   "outputs": [
    {
     "name": "stdout",
     "output_type": "stream",
     "text": [
      "[10, 95, 17, 93, 93, 49, 38, 40, 55, 93, 92, 81, 100, 91, 26, 30, 49, 6, 64, 53, 41, 16, 69, 87, 1, 9, 54, 60, 42, 87, 53, 54, 65, 84, 82, 39, 51, 85, 88, 83, 41, 88, 59, 28, 5, 69, 94, 35, 83, 58, 79, 96, 98, 63, 14, 99, 40, 65, 62, 75, 33, 31, 53, 63, 43, 62, 13, 1, 7, 46, 28, 78, 67, 60, 31, 72, 57, 11, 23, 35]\n",
      "80\n",
      "93 appears more than once\n",
      "93 appears more than once\n",
      "49 appears more than once\n",
      "40 appears more than once\n",
      "93 appears more than once\n",
      "49 appears more than once\n",
      "53 appears more than once\n",
      "41 appears more than once\n",
      "69 appears more than once\n",
      "87 appears more than once\n",
      "1 appears more than once\n",
      "54 appears more than once\n",
      "60 appears more than once\n",
      "87 appears more than once\n",
      "53 appears more than once\n",
      "54 appears more than once\n",
      "65 appears more than once\n",
      "88 appears more than once\n",
      "83 appears more than once\n",
      "41 appears more than once\n",
      "88 appears more than once\n",
      "28 appears more than once\n",
      "69 appears more than once\n",
      "35 appears more than once\n",
      "83 appears more than once\n",
      "63 appears more than once\n",
      "40 appears more than once\n",
      "65 appears more than once\n",
      "62 appears more than once\n",
      "31 appears more than once\n",
      "53 appears more than once\n",
      "63 appears more than once\n",
      "62 appears more than once\n",
      "1 appears more than once\n",
      "28 appears more than once\n",
      "60 appears more than once\n",
      "31 appears more than once\n",
      "35 appears more than once\n"
     ]
    }
   ],
   "source": [
    "# Your code here\n",
    "sample_list_2 = list()\n",
    "\n",
    "for i in range(80):\n",
    "    sample_list_2.append(random.randint(0, 100))\n",
    "    \n",
    "print(sample_list_2)\n",
    "print(len(sample_list_2))\n",
    "\n",
    "for num in sample_list_2:\n",
    "    if sample_list_2.count(num) > 1:\n",
    "        print(\"{0} appears more than once\".format(num))\n",
    "\n",
    "\n",
    "# num = random.randint(0, 100)\n",
    "# print(num)"
   ]
  },
  {
   "cell_type": "markdown",
   "metadata": {},
   "source": [
    "#### Convert `sample_list_2` to a set called `set2`. Print the length of the set. Is its length still 80?"
   ]
  },
  {
   "cell_type": "code",
   "execution_count": 73,
   "metadata": {},
   "outputs": [
    {
     "name": "stdout",
     "output_type": "stream",
     "text": [
      "{1, 5, 6, 7, 9, 10, 11, 13, 14, 16, 17, 23, 26, 28, 30, 31, 33, 35, 38, 39, 40, 41, 42, 43, 46, 49, 51, 53, 54, 55, 57, 58, 59, 60, 62, 63, 64, 65, 67, 69, 72, 75, 78, 79, 81, 82, 83, 84, 85, 87, 88, 91, 92, 93, 94, 95, 96, 98, 99, 100}\n",
      "60\n"
     ]
    }
   ],
   "source": [
    "set2 = set(sample_list_2)\n",
    "print(set2)\n",
    "print(len(set2))\n"
   ]
  },
  {
   "cell_type": "markdown",
   "metadata": {},
   "source": [
    "#### Identify the elements present in `set1` but not in `set2`. Assign the elements to a new set named `set3`."
   ]
  },
  {
   "cell_type": "code",
   "execution_count": 74,
   "metadata": {},
   "outputs": [
    {
     "name": "stdout",
     "output_type": "stream",
     "text": [
      "{0, 2, 4, 8, 12, 15, 18, 19, 20, 21, 22, 25, 27, 29, 32, 36, 37, 44, 45, 47, 48, 56, 61, 66, 68, 70, 71, 73, 74, 86, 90, 97}\n",
      "32\n"
     ]
    }
   ],
   "source": [
    "set3 = set()\n",
    "\n",
    "for num in set1:\n",
    "    if num not in set2:\n",
    "        set3.add(num)\n",
    "print(set3)\n",
    "print(len(set3))"
   ]
  },
  {
   "cell_type": "markdown",
   "metadata": {},
   "source": [
    "#### Identify the elements present in `set2` but not in `set1`. Assign the elements to a new set named `set4`."
   ]
  },
  {
   "cell_type": "code",
   "execution_count": 75,
   "metadata": {},
   "outputs": [
    {
     "name": "stdout",
     "output_type": "stream",
     "text": [
      "{43, 14, 92, 16, 17, 82, 51, 84, 55, 57, 58, 28}\n",
      "12\n"
     ]
    }
   ],
   "source": [
    "set4 = set()\n",
    "\n",
    "for num in set2:\n",
    "    if num not in set1:\n",
    "        set4.add(num)\n",
    "print(set4)\n",
    "print(len(set4))"
   ]
  },
  {
   "cell_type": "markdown",
   "metadata": {},
   "source": [
    "#### Now Identify the elements shared between `set1` and `set2`. Assign the elements to a new set named `set5`."
   ]
  },
  {
   "cell_type": "code",
   "execution_count": 76,
   "metadata": {},
   "outputs": [
    {
     "name": "stdout",
     "output_type": "stream",
     "text": [
      "{1, 5, 6, 7, 9, 10, 11, 13, 23, 26, 30, 31, 33, 35, 38, 39, 40, 41, 42, 46, 49, 53, 54, 59, 60, 62, 63, 64, 65, 67, 69, 72, 75, 78, 79, 81, 83, 85, 87, 88, 91, 93, 94, 95, 96, 98, 99, 100}\n",
      "48\n"
     ]
    }
   ],
   "source": [
    "set5 = set()\n",
    "\n",
    "for num in set1:\n",
    "    if num in set2:\n",
    "        set5.add(num)\n",
    "print(set5)\n",
    "print(len(set5))"
   ]
  },
  {
   "cell_type": "markdown",
   "metadata": {},
   "source": [
    "#### What is the relationship among the following values:\n",
    "\n",
    "* len(set1)\n",
    "* len(set2)\n",
    "* len(set3)\n",
    "* len(set4)\n",
    "* len(set5)\n",
    "\n",
    "Use a math formular to represent that relationship. Test your formular with Python code."
   ]
  },
  {
   "cell_type": "code",
   "execution_count": 77,
   "metadata": {},
   "outputs": [
    {
     "name": "stdout",
     "output_type": "stream",
     "text": [
      "80\n",
      "60\n",
      "32\n",
      "12\n",
      "48\n",
      "{0, 2, 4, 8, 12, 15, 18, 19, 20, 21, 22, 25, 27, 29, 32, 36, 37, 44, 45, 47, 48, 56, 61, 66, 68, 70, 71, 73, 74, 86, 90, 97}\n",
      "{0, 2, 4, 8, 12, 15, 18, 19, 20, 21, 22, 25, 27, 29, 32, 36, 37, 44, 45, 47, 48, 56, 61, 66, 68, 70, 71, 73, 74, 86, 90, 97}\n",
      "True\n"
     ]
    }
   ],
   "source": [
    "print(len(set1))\n",
    "print(len(set2))\n",
    "print(len(set3)) # elements in set1 but not in set2.\n",
    "print(len(set4)) # elements in present in set2 but not in set1\n",
    "print(len(set5)) # elements in shared between set1 and set2\n",
    "\n",
    "new_set3 = set1.difference(set2)\n",
    "new_set4 = set2.difference(set1)\n",
    "new_set5 = set1.intersection(set2)\n",
    "\n",
    "print(set3)\n",
    "print(new_set3)\n",
    "\n",
    "if set3.issubset(new_set3) and new_set3.issubset(set3):\n",
    "    print(True)"
   ]
  },
  {
   "cell_type": "markdown",
   "metadata": {},
   "source": [
    "#### Create an empty set called `set6`."
   ]
  },
  {
   "cell_type": "code",
   "execution_count": 78,
   "metadata": {
    "collapsed": true
   },
   "outputs": [],
   "source": [
    "set6 = set()"
   ]
  },
  {
   "cell_type": "markdown",
   "metadata": {},
   "source": [
    "#### Add `set3` and `set5` to `set6` using the Python Set `update` method."
   ]
  },
  {
   "cell_type": "code",
   "execution_count": 79,
   "metadata": {},
   "outputs": [
    {
     "name": "stdout",
     "output_type": "stream",
     "text": [
      "{0, 1, 2, 4, 5, 6, 7, 8, 9, 10, 11, 12, 13, 15, 18, 19, 20, 21, 22, 23, 25, 26, 27, 29, 30, 31, 32, 33, 35, 36, 37, 38, 39, 40, 41, 42, 44, 45, 46, 47, 48, 49, 53, 54, 56, 59, 60, 61, 62, 63, 64, 65, 66, 67, 68, 69, 70, 71, 72, 73, 74, 75, 78, 79, 81, 83, 85, 86, 87, 88, 90, 91, 93, 94, 95, 96, 97, 98, 99, 100}\n"
     ]
    }
   ],
   "source": [
    "set6 = set()\n",
    "set6.update(set3.union(set5))\n",
    "print(set6)"
   ]
  },
  {
   "cell_type": "markdown",
   "metadata": {},
   "source": [
    "#### Check if `set1` and `set6` are equal."
   ]
  },
  {
   "cell_type": "code",
   "execution_count": 80,
   "metadata": {},
   "outputs": [
    {
     "name": "stdout",
     "output_type": "stream",
     "text": [
      "True\n"
     ]
    }
   ],
   "source": [
    "if set1.issubset(set6) and set6.issubset(set1):\n",
    "    print(True)"
   ]
  },
  {
   "cell_type": "markdown",
   "metadata": {},
   "source": [
    "#### Check if `set1` contains `set2` using the Python Set `issubset` method. Then check if `set1` contains `set3`.*"
   ]
  },
  {
   "cell_type": "code",
   "execution_count": 81,
   "metadata": {},
   "outputs": [],
   "source": [
    "if set1.issubset(set2) and set1.issubset(set3):\n",
    "    print(True)"
   ]
  },
  {
   "cell_type": "markdown",
   "metadata": {},
   "source": [
    "#### Using the Python Set `union` method, aggregate `set3`, `set4`, and `set5`. Then aggregate `set1` and `set2`. \n",
    "\n",
    "#### Check if the aggregated values are equal."
   ]
  },
  {
   "cell_type": "code",
   "execution_count": 82,
   "metadata": {},
   "outputs": [
    {
     "name": "stdout",
     "output_type": "stream",
     "text": [
      "{0, 1, 2, 4, 5, 6, 7, 8, 9, 10, 11, 12, 13, 14, 15, 16, 17, 18, 19, 20, 21, 22, 23, 25, 26, 27, 28, 29, 30, 31, 32, 33, 35, 36, 37, 38, 39, 40, 41, 42, 43, 44, 45, 46, 47, 48, 49, 51, 53, 54, 55, 56, 57, 58, 59, 60, 61, 62, 63, 64, 65, 66, 67, 68, 69, 70, 71, 72, 73, 74, 75, 78, 79, 81, 82, 83, 84, 85, 86, 87, 88, 90, 91, 92, 93, 94, 95, 96, 97, 98, 99, 100}\n",
      "{0, 1, 2, 4, 5, 6, 7, 8, 9, 10, 11, 12, 13, 14, 15, 16, 17, 18, 19, 20, 21, 22, 23, 25, 26, 27, 28, 29, 30, 31, 32, 33, 35, 36, 37, 38, 39, 40, 41, 42, 43, 44, 45, 46, 47, 48, 49, 51, 53, 54, 55, 56, 57, 58, 59, 60, 61, 62, 63, 64, 65, 66, 67, 68, 69, 70, 71, 72, 73, 74, 75, 78, 79, 81, 82, 83, 84, 85, 86, 87, 88, 90, 91, 92, 93, 94, 95, 96, 97, 98, 99, 100}\n",
      "True\n",
      "True\n"
     ]
    }
   ],
   "source": [
    "union1 = set3.union(set4, set5)\n",
    "print(union1)\n",
    "\n",
    "union2 = set1.union(set2)\n",
    "print(union2)\n",
    "\n",
    "if union1 == union2:\n",
    "    print(True)\n",
    "if union1.issubset(union2) and union2.issubset(union1):\n",
    "    print(True)"
   ]
  },
  {
   "cell_type": "markdown",
   "metadata": {},
   "source": [
    "#### Using the `pop` method, remove the first element from `set1`."
   ]
  },
  {
   "cell_type": "code",
   "execution_count": 83,
   "metadata": {},
   "outputs": [
    {
     "name": "stdout",
     "output_type": "stream",
     "text": [
      "{0, 1, 2, 4, 5, 6, 7, 8, 9, 10, 11, 12, 13, 15, 18, 19, 20, 21, 22, 23, 25, 26, 27, 29, 30, 31, 32, 33, 35, 36, 37, 38, 39, 40, 41, 42, 44, 45, 46, 47, 48, 49, 53, 54, 56, 59, 60, 61, 62, 63, 64, 65, 66, 67, 68, 69, 70, 71, 72, 73, 74, 75, 78, 79, 81, 83, 85, 86, 87, 88, 90, 91, 93, 94, 95, 96, 97, 98, 99, 100}\n",
      "{1, 2, 4, 5, 6, 7, 8, 9, 10, 11, 12, 13, 15, 18, 19, 20, 21, 22, 23, 25, 26, 27, 29, 30, 31, 32, 33, 35, 36, 37, 38, 39, 40, 41, 42, 44, 45, 46, 47, 48, 49, 53, 54, 56, 59, 60, 61, 62, 63, 64, 65, 66, 67, 68, 69, 70, 71, 72, 73, 74, 75, 78, 79, 81, 83, 85, 86, 87, 88, 90, 91, 93, 94, 95, 96, 97, 98, 99, 100}\n",
      "0\n"
     ]
    }
   ],
   "source": [
    "print(set1)\n",
    "num = set1.pop()\n",
    "print(set1)\n",
    "print(num)"
   ]
  },
  {
   "cell_type": "markdown",
   "metadata": {},
   "source": [
    "#### Remove every element in the following list from `set1` if they are present in the set. Print the remaining elements.\n",
    "\n",
    "```\n",
    "list_to_remove = [1, 9, 11, 19, 21, 29, 31, 39, 41, 49, 51, 59, 61, 69, 71, 79, 81, 89, 91, 99]\n",
    "```"
   ]
  },
  {
   "cell_type": "code",
   "execution_count": 85,
   "metadata": {},
   "outputs": [
    {
     "name": "stdout",
     "output_type": "stream",
     "text": [
      "{2, 4, 5, 6, 7, 8, 10, 12, 13, 15, 18, 20, 22, 23, 25, 26, 27, 30, 32, 33, 35, 36, 37, 38, 40, 42, 44, 45, 46, 47, 48, 53, 54, 56, 60, 62, 63, 64, 65, 66, 67, 68, 70, 72, 73, 74, 75, 78, 83, 85, 86, 87, 88, 90, 93, 94, 95, 96, 97, 98, 100}\n",
      "{2, 4, 5, 6, 7, 8, 10, 12, 13, 15, 18, 20, 22, 23, 25, 26, 27, 30, 32, 33, 35, 36, 37, 38, 40, 42, 44, 45, 46, 47, 48, 53, 54, 56, 60, 62, 63, 64, 65, 66, 67, 68, 70, 72, 73, 74, 75, 78, 83, 85, 86, 87, 88, 90, 93, 94, 95, 96, 97, 98, 100}\n"
     ]
    }
   ],
   "source": [
    "list_to_remove = [1, 9, 11, 19, 21, 29, 31, 39, 41, 49, 51, 59, 61, 69, 71, 79, 81, 89, 91, 99]\n",
    "\n",
    "print(set1)\n",
    "\n",
    "for num in list_to_remove:\n",
    "    if num in set1:\n",
    "        set1.remove(num)\n",
    "print(set1)"
   ]
  }
 ],
 "metadata": {
  "kernelspec": {
   "display_name": "Python 3",
   "language": "python",
   "name": "python3"
  },
  "language_info": {
   "codemirror_mode": {
    "name": "ipython",
    "version": 3
   },
   "file_extension": ".py",
   "mimetype": "text/x-python",
   "name": "python",
   "nbconvert_exporter": "python",
   "pygments_lexer": "ipython3",
   "version": "3.6.2"
  }
 },
 "nbformat": 4,
 "nbformat_minor": 2
}
