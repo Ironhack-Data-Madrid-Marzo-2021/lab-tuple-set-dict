{
 "cells": [
  {
   "cell_type": "markdown",
   "metadata": {},
   "source": [
    "## Challenge 2: Sets\n",
    "\n",
    "There are a lot to learn about Python Sets and the information presented in the lesson is limited due to its length. To learn Python Sets in depth you are strongly encouraged to review the W3Schools tutorial on [Python Sets Examples and Methods](https://www.w3schools.com/python/python_sets.asp) before you work on this lab. Some difficult questions in this lab have their solutions in the W3Schools tutorial.\n",
    "\n",
    "#### First, import the Python `random` libary"
   ]
  },
  {
   "cell_type": "code",
   "execution_count": 10,
   "metadata": {},
   "outputs": [],
   "source": [
    "import random as rd"
   ]
  },
  {
   "cell_type": "code",
   "execution_count": 11,
   "metadata": {},
   "outputs": [
    {
     "name": "stdout",
     "output_type": "stream",
     "text": [
      "La lista pseudoaleatoria puede ser:\n",
      "[87, 20, 82, 7, 10, 28, 52, 79, 67, 57, 12, 86, 36, 48, 99, 73, 29, 66, 16, 2, 56, 93, 50, 85, 33, 78, 49, 94, 42, 24, 8, 64, 23, 58, 9, 65, 45, 25, 61, 47, 30, 70, 80, 76, 89, 77, 38, 40, 13, 41, 21, 44, 31, 60, 27, 83, 0, 39, 68, 3, 54, 90, 17, 88, 11, 46, 18, 92, 43, 34, 26, 6, 59, 5, 15, 71, 75, 97, 81, 53]\n",
      "Tiene una longitud de 80 elementos\n",
      "El valor máximo es 99\n",
      "El valro mínomo es 0\n",
      "Valores únicos\n"
     ]
    }
   ],
   "source": [
    "# Your code here\n",
    "#He hecho esto para ver si se podía hacer recursividad en python que no lo había intentado\n",
    "\n",
    "def valores_unicos(lista):\n",
    "    long=len(lista)\n",
    "    \n",
    "    if long==1:\n",
    "        return True\n",
    "    elif lista[0] in lista[1:]:\n",
    "        return False\n",
    "    else:\n",
    "        \n",
    "        return valores_unicos(lista[1:])\n",
    "\n",
    "    \n",
    "sample_list_1=rd.sample(range(100),80)\n",
    "long_sample_list_1=len(sample_list_1)\n",
    "maximo=max(sample_list_1)\n",
    "minimo=min(sample_list_1)\n",
    "print(f\"La lista pseudoaleatoria puede ser:\\n{sample_list_1}\")\n",
    "print(f\"Tiene una longitud de {long_sample_list_1} elementos\")\n",
    "print(f\"El valor máximo es {maximo}\")\n",
    "print(f\"El valro mínomo es {minimo}\")\n",
    "#sample_list_1[10]=sample_list_1[70] #esta línea es por si  queremos repetir un valor\n",
    "if valores_unicos(sample_list_1):\n",
    "    print(\"Valores únicos\")\n",
    "else:\n",
    "    print(\"Valores repetidos\") "
   ]
  },
  {
   "cell_type": "markdown",
   "metadata": {},
   "source": [
    "#### In the cell below, create a list named `sample_list_1` with 80 random values. \n",
    "\n",
    "Requirements:\n",
    "\n",
    "* Each value is an integer falling between 0 and 100.\n",
    "* Each value in the list is unique.\n",
    "\n",
    "Print `sample_list_1` to review its values\n",
    "\n",
    "*Hint: use `random.sample` ([reference](https://docs.python.org/3/library/random.html#random.sample)).*"
   ]
  },
  {
   "cell_type": "markdown",
   "metadata": {},
   "source": [
    "#### Convert `sample_list_1` to a set called `set1`. Print the length of the set. Is its length still 80?"
   ]
  },
  {
   "cell_type": "code",
   "execution_count": 12,
   "metadata": {},
   "outputs": [
    {
     "ename": "NameError",
     "evalue": "name 'conjunto' is not defined",
     "output_type": "error",
     "traceback": [
      "\u001b[1;31m---------------------------------------------------------------------------\u001b[0m",
      "\u001b[1;31mNameError\u001b[0m                                 Traceback (most recent call last)",
      "\u001b[1;32m<ipython-input-12-dec55bdbf645>\u001b[0m in \u001b[0;36m<module>\u001b[1;34m\u001b[0m\n\u001b[0;32m      1\u001b[0m \u001b[1;31m# Your code here\u001b[0m\u001b[1;33m\u001b[0m\u001b[1;33m\u001b[0m\u001b[1;33m\u001b[0m\u001b[0m\n\u001b[0;32m      2\u001b[0m \u001b[0mset1\u001b[0m\u001b[1;33m=\u001b[0m\u001b[0mset\u001b[0m\u001b[1;33m(\u001b[0m\u001b[0msample_list_1\u001b[0m\u001b[1;33m)\u001b[0m\u001b[1;33m\u001b[0m\u001b[1;33m\u001b[0m\u001b[0m\n\u001b[1;32m----> 3\u001b[1;33m \u001b[0mprint\u001b[0m\u001b[1;33m(\u001b[0m\u001b[1;34mf\"El conjunto es{conjunto}\"\u001b[0m\u001b[1;33m)\u001b[0m\u001b[1;33m\u001b[0m\u001b[1;33m\u001b[0m\u001b[0m\n\u001b[0m",
      "\u001b[1;31mNameError\u001b[0m: name 'conjunto' is not defined"
     ]
    }
   ],
   "source": [
    "# Your code here\n",
    "set1=set(sample_list_1)\n",
    "print(f\"El conjunto es{conjunto}\")"
   ]
  },
  {
   "cell_type": "markdown",
   "metadata": {},
   "source": [
    "#### Create another list named `sample_list_2` with 80 random values.\n",
    "\n",
    "Requirements:\n",
    "\n",
    "* Each value is an integer falling between 0 and 100.\n",
    "* The values in the list don't have to be unique.\n",
    "\n",
    "*Hint: Use a FOR loop.*"
   ]
  },
  {
   "cell_type": "code",
   "execution_count": 13,
   "metadata": {},
   "outputs": [
    {
     "name": "stdout",
     "output_type": "stream",
     "text": [
      "La lista aleatoria con elementos repetibles es [10, 37, 47, 4, 37, 6, 48, 94, 36, 47, 25, 39, 20, 59, 77, 27, 15, 17, 88, 46, 16, 9, 8, 31, 68, 63, 91, 44, 17, 90, 36, 68, 0, 70, 60, 49, 47, 93, 62, 39, 95, 44, 87, 32, 86, 66, 86, 47, 71, 7, 55, 66, 75, 99, 56, 97, 56, 94, 26, 49, 58, 79, 20, 10, 29, 76, 6, 89, 69, 64, 12, 79, 82, 35, 42, 1, 44, 63, 13, 38]\n"
     ]
    }
   ],
   "source": [
    "# Your code here\n",
    "sample_list_2=[rd.randint(0,99) for x in range(80)]\n",
    "print(f\"La lista aleatoria con elementos repetibles es {sample_list_2}\")"
   ]
  },
  {
   "cell_type": "markdown",
   "metadata": {},
   "source": [
    "#### Convert `sample_list_2` to a set called `set2`. Print the length of the set. Is its length still 80?"
   ]
  },
  {
   "cell_type": "code",
   "execution_count": 14,
   "metadata": {},
   "outputs": [
    {
     "name": "stdout",
     "output_type": "stream",
     "text": [
      "El conjunto de elementos es {0, 1, 4, 6, 7, 8, 9, 10, 12, 13, 15, 16, 17, 20, 25, 26, 27, 29, 31, 32, 35, 36, 37, 38, 39, 42, 44, 46, 47, 48, 49, 55, 56, 58, 59, 60, 62, 63, 64, 66, 68, 69, 70, 71, 75, 76, 77, 79, 82, 86, 87, 88, 89, 90, 91, 93, 94, 95, 97, 99}\n",
      "\n",
      "La longitud de set2 es 60\n",
      "La longitud es diferente\n"
     ]
    }
   ],
   "source": [
    "# Your code here\n",
    "set2=set(sample_list_2)\n",
    "print(f\"El conjunto de elementos es {set2}\\n\")\n",
    "l2=len(set2)\n",
    "print(f\"La longitud de set2 es {l2}\")\n",
    "if l2!=len(sample_list_2):\n",
    "    print(\"La longitud es diferente\")"
   ]
  },
  {
   "cell_type": "markdown",
   "metadata": {},
   "source": [
    "#### Identify the elements present in `set1` but not in `set2`. Assign the elements to a new set named `set3`."
   ]
  },
  {
   "cell_type": "code",
   "execution_count": 15,
   "metadata": {},
   "outputs": [
    {
     "name": "stdout",
     "output_type": "stream",
     "text": [
      "Set1: {0, 2, 3, 5, 6, 7, 8, 9, 10, 11, 12, 13, 15, 16, 17, 18, 20, 21, 23, 24, 25, 26, 27, 28, 29, 30, 31, 33, 34, 36, 38, 39, 40, 41, 42, 43, 44, 45, 46, 47, 48, 49, 50, 52, 53, 54, 56, 57, 58, 59, 60, 61, 64, 65, 66, 67, 68, 70, 71, 73, 75, 76, 77, 78, 79, 80, 81, 82, 83, 85, 86, 87, 88, 89, 90, 92, 93, 94, 97, 99}\n",
      "\n",
      "Set2: {0, 1, 4, 6, 7, 8, 9, 10, 12, 13, 15, 16, 17, 20, 25, 26, 27, 29, 31, 32, 35, 36, 37, 38, 39, 42, 44, 46, 47, 48, 49, 55, 56, 58, 59, 60, 62, 63, 64, 66, 68, 69, 70, 71, 75, 76, 77, 79, 82, 86, 87, 88, 89, 90, 91, 93, 94, 95, 97, 99}\n",
      "\n",
      "Set 3 sería:{2, 3, 5, 11, 18, 21, 23, 24, 28, 30, 33, 34, 40, 41, 43, 45, 50, 52, 53, 54, 57, 61, 65, 67, 73, 78, 80, 81, 83, 85, 92}\n",
      "\n"
     ]
    }
   ],
   "source": [
    "# Your code here\n",
    "print(f\"Set1: {set1}\\n\")\n",
    "\n",
    "print(f\"Set2: {set2}\\n\")\n",
    "\n",
    "#set_interseccion=set1\n",
    "#set_interseccion.intersection(set2)\n",
    "#print(f\"La interseccion es: {set_interseccion}\\n\")\n",
    "\n",
    "set3=set1.difference(set2)\n",
    "print(f\"Set 3 sería:{set3}\\n\")"
   ]
  },
  {
   "cell_type": "markdown",
   "metadata": {},
   "source": [
    "#### Identify the elements present in `set2` but not in `set1`. Assign the elements to a new set named `set4`."
   ]
  },
  {
   "cell_type": "code",
   "execution_count": 16,
   "metadata": {},
   "outputs": [
    {
     "name": "stdout",
     "output_type": "stream",
     "text": [
      "Set1: {0, 2, 3, 5, 6, 7, 8, 9, 10, 11, 12, 13, 15, 16, 17, 18, 20, 21, 23, 24, 25, 26, 27, 28, 29, 30, 31, 33, 34, 36, 38, 39, 40, 41, 42, 43, 44, 45, 46, 47, 48, 49, 50, 52, 53, 54, 56, 57, 58, 59, 60, 61, 64, 65, 66, 67, 68, 70, 71, 73, 75, 76, 77, 78, 79, 80, 81, 82, 83, 85, 86, 87, 88, 89, 90, 92, 93, 94, 97, 99}\n",
      "\n",
      "Set2: {0, 1, 4, 6, 7, 8, 9, 10, 12, 13, 15, 16, 17, 20, 25, 26, 27, 29, 31, 32, 35, 36, 37, 38, 39, 42, 44, 46, 47, 48, 49, 55, 56, 58, 59, 60, 62, 63, 64, 66, 68, 69, 70, 71, 75, 76, 77, 79, 82, 86, 87, 88, 89, 90, 91, 93, 94, 95, 97, 99}\n",
      "\n",
      "Set 3 sería:{32, 1, 35, 4, 37, 69, 95, 55, 91, 62, 63}\n",
      "\n"
     ]
    }
   ],
   "source": [
    "# Your code here\n",
    "\n",
    "print(f\"Set1: {set1}\\n\")\n",
    "\n",
    "print(f\"Set2: {set2}\\n\")\n",
    "\n",
    "set4=set2.difference(set1)\n",
    "print(f\"Set 3 sería:{set4}\\n\")"
   ]
  },
  {
   "cell_type": "markdown",
   "metadata": {},
   "source": [
    "#### Now Identify the elements shared between `set1` and `set2`. Assign the elements to a new set named `set5`."
   ]
  },
  {
   "cell_type": "code",
   "execution_count": 17,
   "metadata": {},
   "outputs": [
    {
     "name": "stdout",
     "output_type": "stream",
     "text": [
      "Set1: {0, 2, 3, 5, 6, 7, 8, 9, 10, 11, 12, 13, 15, 16, 17, 18, 20, 21, 23, 24, 25, 26, 27, 28, 29, 30, 31, 33, 34, 36, 38, 39, 40, 41, 42, 43, 44, 45, 46, 47, 48, 49, 50, 52, 53, 54, 56, 57, 58, 59, 60, 61, 64, 65, 66, 67, 68, 70, 71, 73, 75, 76, 77, 78, 79, 80, 81, 82, 83, 85, 86, 87, 88, 89, 90, 92, 93, 94, 97, 99}\n",
      "\n",
      "Set2: {0, 1, 4, 6, 7, 8, 9, 10, 12, 13, 15, 16, 17, 20, 25, 26, 27, 29, 31, 32, 35, 36, 37, 38, 39, 42, 44, 46, 47, 48, 49, 55, 56, 58, 59, 60, 62, 63, 64, 66, 68, 69, 70, 71, 75, 76, 77, 79, 82, 86, 87, 88, 89, 90, 91, 93, 94, 95, 97, 99}\n",
      "\n",
      "Set 5 sería:{0, 6, 7, 8, 9, 10, 12, 13, 15, 16, 17, 20, 25, 26, 27, 29, 31, 36, 38, 39, 42, 44, 46, 47, 48, 49, 56, 58, 59, 60, 64, 66, 68, 70, 71, 75, 76, 77, 79, 82, 86, 87, 88, 89, 90, 93, 94, 97, 99}\n",
      "\n"
     ]
    }
   ],
   "source": [
    "# Your code here\n",
    "print(f\"Set1: {set1}\\n\")\n",
    "\n",
    "print(f\"Set2: {set2}\\n\")\n",
    "\n",
    "#set_interseccion=set1\n",
    "#set_interseccion.intersection(set2)\n",
    "#print(f\"La interseccion es: {set_interseccion}\\n\")\n",
    "\n",
    "set5=set2.intersection(set1)\n",
    "print(f\"Set 5 sería:{set5}\\n\")"
   ]
  },
  {
   "cell_type": "markdown",
   "metadata": {},
   "source": [
    "#### What is the relationship among the following values:\n",
    "\n",
    "* len(set1)\n",
    "* len(set2)\n",
    "* len(set3)\n",
    "* len(set4)\n",
    "* len(set5)\n",
    "\n",
    "Use a math formular to represent that relationship. Test your formular with Python code."
   ]
  },
  {
   "cell_type": "code",
   "execution_count": 18,
   "metadata": {},
   "outputs": [
    {
     "name": "stdout",
     "output_type": "stream",
     "text": [
      "El número de elemetos de set1 es igual set3 U set5\n",
      "El número de elemetos de set2 es igual set4 U set5\n"
     ]
    }
   ],
   "source": [
    "# Your code here\n",
    "l1=len(set1)\n",
    "l2=len(set2)\n",
    "l3=len(set3)\n",
    "l4=len(set4)\n",
    "l5=len(set5)\n",
    "\n",
    "if l1==l3+l5:\n",
    "    print(f\"El número de elemetos de set1 es igual set3 U set5\")\n",
    "\n",
    "if l2==l5+l4:\n",
    "    print(f\"El número de elemetos de set2 es igual set4 U set5\")\n"
   ]
  },
  {
   "cell_type": "markdown",
   "metadata": {},
   "source": [
    "#### Create an empty set called `set6`."
   ]
  },
  {
   "cell_type": "code",
   "execution_count": 19,
   "metadata": {},
   "outputs": [
    {
     "data": {
      "text/plain": [
       "set"
      ]
     },
     "execution_count": 19,
     "metadata": {},
     "output_type": "execute_result"
    }
   ],
   "source": [
    "# Your code here\n",
    "set6=set()\n",
    "type(set6)\n"
   ]
  },
  {
   "cell_type": "markdown",
   "metadata": {},
   "source": [
    "#### Add `set3` and `set5` to `set6` using the Python Set `update` method."
   ]
  },
  {
   "cell_type": "code",
   "execution_count": 20,
   "metadata": {},
   "outputs": [
    {
     "name": "stdout",
     "output_type": "stream",
     "text": [
      "Set6set()\n",
      "\n",
      "Set3{2, 3, 5, 11, 18, 21, 23, 24, 28, 30, 33, 34, 40, 41, 43, 45, 50, 52, 53, 54, 57, 61, 65, 67, 73, 78, 80, 81, 83, 85, 92}\n",
      "\n",
      "Set5{0, 6, 7, 8, 9, 10, 12, 13, 15, 16, 17, 20, 25, 26, 27, 29, 31, 36, 38, 39, 42, 44, 46, 47, 48, 49, 56, 58, 59, 60, 64, 66, 68, 70, 71, 75, 76, 77, 79, 82, 86, 87, 88, 89, 90, 93, 94, 97, 99}\n",
      "\n",
      "Set6 ahora es {0, 2, 3, 5, 6, 7, 8, 9, 10, 11, 12, 13, 15, 16, 17, 18, 20, 21, 23, 24, 25, 26, 27, 28, 29, 30, 31, 33, 34, 36, 38, 39, 40, 41, 42, 43, 44, 45, 46, 47, 48, 49, 50, 52, 53, 54, 56, 57, 58, 59, 60, 61, 64, 65, 66, 67, 68, 70, 71, 73, 75, 76, 77, 78, 79, 80, 81, 82, 83, 85, 86, 87, 88, 89, 90, 92, 93, 94, 97, 99}\n",
      "\n"
     ]
    }
   ],
   "source": [
    "# Your code here\n",
    "print(f\"Set6{set6}\\n\")\n",
    "print(f\"Set3{set3}\\n\")\n",
    "print(f\"Set5{set5}\\n\")\n",
    "\n",
    "set6.update(set3,set5)\n",
    "\n",
    "print(f\"Set6 ahora es {set6}\\n\")\n"
   ]
  },
  {
   "cell_type": "markdown",
   "metadata": {},
   "source": [
    "#### Check if `set1` and `set6` are equal."
   ]
  },
  {
   "cell_type": "code",
   "execution_count": 21,
   "metadata": {},
   "outputs": [
    {
     "name": "stdout",
     "output_type": "stream",
     "text": [
      "Set1 y set6 son iguales\n"
     ]
    }
   ],
   "source": [
    "# Your code here\n",
    "if set1==set6:\n",
    "    print(\"Set1 y set6 son iguales\")"
   ]
  },
  {
   "cell_type": "markdown",
   "metadata": {},
   "source": [
    "#### Check if `set1` contains `set2` using the Python Set `issubset` method. Then check if `set1` contains `set3`.*"
   ]
  },
  {
   "cell_type": "code",
   "execution_count": 22,
   "metadata": {},
   "outputs": [
    {
     "name": "stdout",
     "output_type": "stream",
     "text": [
      "Set1 NO es un subset de set 2\n",
      "Set 3 es un subset de set 2\n"
     ]
    }
   ],
   "source": [
    "# Your code here\n",
    "set1_subset_sub2=set2.issubset(set1)\n",
    "if set1_subset_sub2:\n",
    "    print(\"Set1 es un subset de set 2\")\n",
    "else:\n",
    "    print(\"Set1 NO es un subset de set 2\")\n",
    "\n",
    "\n",
    "set3_subset_set1=set3.issubset(set1)\n",
    "if set3_subset_set1:\n",
    "    print(\"Set 3 es un subset de set 2\")\n",
    "else:\n",
    "    print(\"Set 3 NO es un subset de set 2\")\n",
    "\n",
    "    \n"
   ]
  },
  {
   "cell_type": "markdown",
   "metadata": {},
   "source": [
    "#### Using the Python Set `union` method, aggregate `set3`, `set4`, and `set5`. Then aggregate `set1` and `set2`. \n",
    "\n",
    "#### Check if the aggregated values are equal."
   ]
  },
  {
   "cell_type": "code",
   "execution_count": 23,
   "metadata": {},
   "outputs": [
    {
     "name": "stdout",
     "output_type": "stream",
     "text": [
      "Los conjuntos resultantes son iguales\n"
     ]
    }
   ],
   "source": [
    "# Your code here\n",
    "set345=set()\n",
    "set12=set()\n",
    "set345.union(set3,set4,set5)\n",
    "set12.union(set1,set2)\n",
    "if set345==set12:\n",
    "    print(\"Los conjuntos resultantes son iguales\")\n",
    "else:\n",
    "    print(\"Los conjuntos resultantes son diferentes\")"
   ]
  },
  {
   "cell_type": "markdown",
   "metadata": {},
   "source": [
    "#### Using the `pop` method, remove the first element from `set1`."
   ]
  },
  {
   "cell_type": "code",
   "execution_count": 24,
   "metadata": {},
   "outputs": [
    {
     "name": "stdout",
     "output_type": "stream",
     "text": [
      "El set1 es {0, 2, 3, 5, 6, 7, 8, 9, 10, 11, 12, 13, 15, 16, 17, 18, 20, 21, 23, 24, 25, 26, 27, 28, 29, 30, 31, 33, 34, 36, 38, 39, 40, 41, 42, 43, 44, 45, 46, 47, 48, 49, 50, 52, 53, 54, 56, 57, 58, 59, 60, 61, 64, 65, 66, 67, 68, 70, 71, 73, 75, 76, 77, 78, 79, 80, 81, 82, 83, 85, 86, 87, 88, 89, 90, 92, 93, 94, 97, 99}\n",
      "\n",
      "Sacamos el elemento 0\n",
      "\n",
      "El set1 queda ahora así {2, 3, 5, 6, 7, 8, 9, 10, 11, 12, 13, 15, 16, 17, 18, 20, 21, 23, 24, 25, 26, 27, 28, 29, 30, 31, 33, 34, 36, 38, 39, 40, 41, 42, 43, 44, 45, 46, 47, 48, 49, 50, 52, 53, 54, 56, 57, 58, 59, 60, 61, 64, 65, 66, 67, 68, 70, 71, 73, 75, 76, 77, 78, 79, 80, 81, 82, 83, 85, 86, 87, 88, 89, 90, 92, 93, 94, 97, 99}\n",
      "\n"
     ]
    }
   ],
   "source": [
    "# Your code here\n",
    "\n",
    "print(f\"El set1 es {set1}\\n\")\n",
    "sacamos_elemento=set1.pop()\n",
    "print(f\"Sacamos el elemento {sacamos_elemento}\\n\")\n",
    "print(f\"El set1 queda ahora así {set1}\\n\")\n",
    "\n"
   ]
  },
  {
   "cell_type": "markdown",
   "metadata": {},
   "source": [
    "#### Remove every element in the following list from `set1` if they are present in the set. Print the remaining elements.\n",
    "\n",
    "```\n",
    "list_to_remove = [1, 9, 11, 19, 21, 29, 31, 39, 41, 49, 51, 59, 61, 69, 71, 79, 81, 89, 91, 99]\n",
    "```"
   ]
  },
  {
   "cell_type": "code",
   "execution_count": 25,
   "metadata": {},
   "outputs": [
    {
     "name": "stdout",
     "output_type": "stream",
     "text": [
      "La lista a eliminar es \n",
      "[1, 9, 11, 19, 21, 29, 31, 39, 41, 49, 51, 59, 61, 69, 71, 79, 81, 89, 91, 99]\n",
      "\n",
      "El set1 es\n",
      " {2, 3, 5, 6, 7, 8, 9, 10, 11, 12, 13, 15, 16, 17, 18, 20, 21, 23, 24, 25, 26, 27, 28, 29, 30, 31, 33, 34, 36, 38, 39, 40, 41, 42, 43, 44, 45, 46, 47, 48, 49, 50, 52, 53, 54, 56, 57, 58, 59, 60, 61, 64, 65, 66, 67, 68, 70, 71, 73, 75, 76, 77, 78, 79, 80, 81, 82, 83, 85, 86, 87, 88, 89, 90, 92, 93, 94, 97, 99}\n",
      "\n",
      "Los elementos que quedan son \n",
      "{2, 3, 5, 6, 7, 8, 10, 12, 13, 15, 16, 17, 18, 20, 23, 24, 25, 26, 27, 28, 30, 33, 34, 36, 38, 40, 42, 43, 44, 45, 46, 47, 48, 50, 52, 53, 54, 56, 57, 58, 60, 64, 65, 66, 67, 68, 70, 73, 75, 76, 77, 78, 80, 82, 83, 85, 86, 87, 88, 90, 92, 93, 94, 97}\n"
     ]
    }
   ],
   "source": [
    "# Your code here\n",
    "list_to_remove = [1, 9, 11, 19, 21, 29, 31, 39, 41, 49, 51, 59, 61, 69, 71, 79, 81, 89, 91, 99]\n",
    "print(f\"La lista a eliminar es \\n{list_to_remove}\\n\")\n",
    "print(f\"El set1 es\\n {set1}\\n\")\n",
    "for elemento in list_to_remove:\n",
    "        set1.discard(elemento)\n",
    "\n",
    "print(f\"Los elementos que quedan son \\n{set1}\")"
   ]
  },
  {
   "cell_type": "code",
   "execution_count": null,
   "metadata": {},
   "outputs": [],
   "source": []
  }
 ],
 "metadata": {
  "kernelspec": {
   "display_name": "Python 3",
   "language": "python",
   "name": "python3"
  },
  "language_info": {
   "codemirror_mode": {
    "name": "ipython",
    "version": 3
   },
   "file_extension": ".py",
   "mimetype": "text/x-python",
   "name": "python",
   "nbconvert_exporter": "python",
   "pygments_lexer": "ipython3",
   "version": "3.8.5"
  }
 },
 "nbformat": 4,
 "nbformat_minor": 2
}
