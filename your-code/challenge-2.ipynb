{
 "cells": [
  {
   "cell_type": "markdown",
   "metadata": {},
   "source": [
    "## Challenge 2: Sets\n",
    "\n",
    "There are a lot to learn about Python Sets and the information presented in the lesson is limited due to its length. To learn Python Sets in depth you are strongly encouraged to review the W3Schools tutorial on [Python Sets Examples and Methods](https://www.w3schools.com/python/python_sets.asp) before you work on this lab. Some difficult questions in this lab have their solutions in the W3Schools tutorial.\n",
    "\n",
    "#### First, import the Python `random` libary"
   ]
  },
  {
   "cell_type": "code",
   "execution_count": 52,
   "metadata": {},
   "outputs": [],
   "source": [
    "import random"
   ]
  },
  {
   "cell_type": "markdown",
   "metadata": {},
   "source": [
    "#### In the cell below, create a list named `sample_list_1` with 80 random values. \n",
    "\n",
    "Requirements:\n",
    "\n",
    "* Each value is an integer falling between 0 and 100.\n",
    "* Each value in the list is unique.\n",
    "\n",
    "Print `sample_list_1` to review its values\n",
    "\n",
    "*Hint: use `random.sample` ([reference](https://docs.python.org/3/library/random.html#random.sample)).*"
   ]
  },
  {
   "cell_type": "code",
   "execution_count": 53,
   "metadata": {},
   "outputs": [
    {
     "name": "stdout",
     "output_type": "stream",
     "text": [
      "[98, 34, 39, 21, 50, 90, 4, 26, 97, 68, 72, 15, 28, 49, 3, 58, 80, 32, 74, 23, 25, 94, 47, 79, 52, 85, 51, 71, 66, 56, 48, 30, 10, 70, 62, 35, 93, 11, 18, 60, 6, 87, 73, 89, 57, 77, 38, 14, 16, 1, 99, 75, 82, 96, 69, 54, 22, 76, 95, 17, 20, 63, 45, 9, 61, 84, 78, 12, 59, 46, 92, 83, 40, 86, 33, 44, 41, 2, 81, 42]\n"
     ]
    },
    {
     "data": {
      "text/plain": [
       "80"
      ]
     },
     "execution_count": 53,
     "metadata": {},
     "output_type": "execute_result"
    }
   ],
   "source": [
    "# Your code here\n",
    "list_1=range (100)\n",
    "sample_list_1= random.sample (list_1, 80)\n",
    "print (sample_list_1)\n",
    "len (sample_list_1)"
   ]
  },
  {
   "cell_type": "markdown",
   "metadata": {},
   "source": [
    "#### Convert `sample_list_1` to a set called `set1`. Print the length of the set. Is its length still 80?"
   ]
  },
  {
   "cell_type": "code",
   "execution_count": 54,
   "metadata": {},
   "outputs": [
    {
     "name": "stdout",
     "output_type": "stream",
     "text": [
      "80\n"
     ]
    }
   ],
   "source": [
    "set1=set(sample_list_1)\n",
    "print (len (set1))\n"
   ]
  },
  {
   "cell_type": "markdown",
   "metadata": {},
   "source": [
    "#### Create another list named `sample_list_2` with 80 random values.\n",
    "\n",
    "Requirements:\n",
    "\n",
    "* Each value is an integer falling between 0 and 100.\n",
    "* The values in the list don't have to be unique.\n",
    "\n",
    "*Hint: Use a FOR loop.*"
   ]
  },
  {
   "cell_type": "code",
   "execution_count": 55,
   "metadata": {},
   "outputs": [
    {
     "name": "stdout",
     "output_type": "stream",
     "text": [
      "[89, 13, 44, 51, 61, 48, 48, 23, 10, 71, 25, 9, 64, 38, 50, 85, 12, 51, 43, 11, 15, 42, 45, 57, 56, 48, 85, 11, 28, 37, 63, 26, 49, 85, 41, 10, 48, 38, 87, 33, 57, 53, 53, 14, 44, 73, 74, 19, 74, 22, 32, 58, 35, 35, 24, 8, 18, 2, 94, 38, 80, 9, 71, 71, 92, 92, 34, 31, 2, 13, 63, 58, 21, 79, 94, 56, 56, 50, 2, 67]\n"
     ]
    }
   ],
   "source": [
    "sample_list_2=[]\n",
    "for n in range (80):\n",
    "    sample_list_2+=random.sample (range (100), 1)\n",
    "print (sample_list_2)"
   ]
  },
  {
   "cell_type": "markdown",
   "metadata": {},
   "source": [
    "#### Convert `sample_list_2` to a set called `set2`. Print the length of the set. Is its length still 80?"
   ]
  },
  {
   "cell_type": "code",
   "execution_count": 56,
   "metadata": {},
   "outputs": [
    {
     "name": "stdout",
     "output_type": "stream",
     "text": [
      "52\n",
      "{2, 8, 9, 10, 11, 12, 13, 14, 15, 18, 19, 21, 22, 23, 24, 25, 26, 28, 31, 32, 33, 34, 35, 37, 38, 41, 42, 43, 44, 45, 48, 49, 50, 51, 53, 56, 57, 58, 61, 63, 64, 67, 71, 73, 74, 79, 80, 85, 87, 89, 92, 94}\n"
     ]
    }
   ],
   "source": [
    "set2= set(sample_list_2)\n",
    "print (len(set2))\n",
    "print (set2)\n",
    "#al haberlo pasado a conjunto elimina las repeticiones)"
   ]
  },
  {
   "cell_type": "markdown",
   "metadata": {},
   "source": [
    "#### Identify the elements present in `set1` but not in `set2`. Assign the elements to a new set named `set3`."
   ]
  },
  {
   "cell_type": "code",
   "execution_count": 57,
   "metadata": {},
   "outputs": [
    {
     "name": "stdout",
     "output_type": "stream",
     "text": [
      "{1, 3, 4, 6, 16, 17, 20, 30, 39, 40, 46, 47, 52, 54, 59, 60, 62, 66, 68, 69, 70, 72, 75, 76, 77, 78, 81, 82, 83, 84, 86, 90, 93, 95, 96, 97, 98, 99}\n"
     ]
    }
   ],
   "source": [
    "set3=set1 -set2\n",
    "print (set3)\n"
   ]
  },
  {
   "cell_type": "markdown",
   "metadata": {},
   "source": [
    "#### Identify the elements present in `set2` but not in `set1`. Assign the elements to a new set named `set4`."
   ]
  },
  {
   "cell_type": "code",
   "execution_count": 58,
   "metadata": {},
   "outputs": [
    {
     "name": "stdout",
     "output_type": "stream",
     "text": [
      "{64, 67, 37, 8, 43, 13, 19, 53, 24, 31}\n"
     ]
    }
   ],
   "source": [
    "set4=set2-set1\n",
    "print (set4)"
   ]
  },
  {
   "cell_type": "markdown",
   "metadata": {},
   "source": [
    "#### Now Identify the elements shared between `set1` and `set2`. Assign the elements to a new set named `set5`."
   ]
  },
  {
   "cell_type": "code",
   "execution_count": 59,
   "metadata": {},
   "outputs": [
    {
     "name": "stdout",
     "output_type": "stream",
     "text": [
      "{2, 9, 10, 11, 12, 14, 15, 18, 21, 22, 23, 25, 26, 28, 32, 33, 34, 35, 38, 41, 42, 44, 45, 48, 49, 50, 51, 56, 57, 58, 61, 63, 71, 73, 74, 79, 80, 85, 87, 89, 92, 94}\n"
     ]
    }
   ],
   "source": [
    "set5=set1 & set2\n",
    "print (set5)\n"
   ]
  },
  {
   "cell_type": "markdown",
   "metadata": {},
   "source": [
    "#### What is the relationship among the following values:\n",
    "\n",
    "* len(set1)\n",
    "* len(set2)\n",
    "* len(set3)\n",
    "* len(set4)\n",
    "* len(set5)\n",
    "\n",
    "Use a math formular to represent that relationship. Test your formular with Python code."
   ]
  },
  {
   "cell_type": "code",
   "execution_count": 60,
   "metadata": {},
   "outputs": [
    {
     "name": "stdout",
     "output_type": "stream",
     "text": [
      "80\n",
      "52\n",
      "38\n",
      "10\n",
      "42\n"
     ]
    }
   ],
   "source": [
    "print (len (set1))\n",
    "print (len (set2))\n",
    "print (len (set3))\n",
    "print (len (set4))\n",
    "print (len (set5))\n"
   ]
  },
  {
   "cell_type": "code",
   "execution_count": 61,
   "metadata": {},
   "outputs": [
    {
     "name": "stdout",
     "output_type": "stream",
     "text": [
      "la cantidad de numeros utilizada ha sido de 90\n",
      "de los cuales, 42, están en ambos conjuntos\n",
      "38 números son únicos del primer conjunto\n",
      "10 números son únicos del segundo conjunto\n"
     ]
    },
    {
     "data": {
      "text/plain": [
       "True"
      ]
     },
     "execution_count": 61,
     "metadata": {},
     "output_type": "execute_result"
    }
   ],
   "source": [
    "Total_numeros= (len (set1)+len(set2))- len(set5)\n",
    "print (f\"la cantidad de numeros utilizada ha sido de {Total_numeros}\")\n",
    "interseccion= (len (set5))\n",
    "print (f\"de los cuales, {interseccion}, están en ambos conjuntos\")\n",
    "unicos1= (len (set3))\n",
    "print (f\"{unicos1} números son únicos del primer conjunto\")\n",
    "unicos2= (len (set4))\n",
    "print (f\"{unicos2} números son únicos del segundo conjunto\")\n",
    "total=unicos1+unicos2+interseccion\n",
    "total==Total_numeros"
   ]
  },
  {
   "cell_type": "markdown",
   "metadata": {},
   "source": [
    "#### Create an empty set called `set6`."
   ]
  },
  {
   "cell_type": "code",
   "execution_count": 62,
   "metadata": {},
   "outputs": [],
   "source": [
    "set6=set()"
   ]
  },
  {
   "cell_type": "code",
   "execution_count": 63,
   "metadata": {},
   "outputs": [],
   "source": [
    "# Your code here\n"
   ]
  },
  {
   "cell_type": "markdown",
   "metadata": {},
   "source": [
    "#### Add `set3` and `set5` to `set6` using the Python Set `update` method."
   ]
  },
  {
   "cell_type": "code",
   "execution_count": 64,
   "metadata": {},
   "outputs": [
    {
     "name": "stdout",
     "output_type": "stream",
     "text": [
      "{1, 3, 4, 6, 16, 17, 20, 30, 39, 40, 46, 47, 52, 54, 59, 60, 62, 66, 68, 69, 70, 72, 75, 76, 77, 78, 81, 82, 83, 84, 86, 90, 93, 95, 96, 97, 98, 99}\n",
      "{1, 2, 3, 4, 6, 9, 10, 11, 12, 14, 15, 16, 17, 18, 20, 21, 22, 23, 25, 26, 28, 30, 32, 33, 34, 35, 38, 39, 40, 41, 42, 44, 45, 46, 47, 48, 49, 50, 51, 52, 54, 56, 57, 58, 59, 60, 61, 62, 63, 66, 68, 69, 70, 71, 72, 73, 74, 75, 76, 77, 78, 79, 80, 81, 82, 83, 84, 85, 86, 87, 89, 90, 92, 93, 94, 95, 96, 97, 98, 99}\n"
     ]
    }
   ],
   "source": [
    "set6.update(set3)\n",
    "print (set6)\n",
    "set6.update (set5)\n",
    "print (set6)"
   ]
  },
  {
   "cell_type": "markdown",
   "metadata": {},
   "source": [
    "#### Check if `set1` and `set6` are equal."
   ]
  },
  {
   "cell_type": "code",
   "execution_count": 65,
   "metadata": {},
   "outputs": [
    {
     "data": {
      "text/plain": [
       "True"
      ]
     },
     "execution_count": 65,
     "metadata": {},
     "output_type": "execute_result"
    }
   ],
   "source": [
    "set1==set6"
   ]
  },
  {
   "cell_type": "markdown",
   "metadata": {},
   "source": [
    "#### Check if `set1` contains `set2` using the Python Set `issubset` method. Then check if `set1` contains `set3`.*"
   ]
  },
  {
   "cell_type": "code",
   "execution_count": 66,
   "metadata": {},
   "outputs": [
    {
     "data": {
      "text/plain": [
       "False"
      ]
     },
     "execution_count": 66,
     "metadata": {},
     "output_type": "execute_result"
    }
   ],
   "source": [
    "# Your code here\n",
    "set2.issubset (set1)"
   ]
  },
  {
   "cell_type": "code",
   "execution_count": 67,
   "metadata": {},
   "outputs": [
    {
     "data": {
      "text/plain": [
       "True"
      ]
     },
     "execution_count": 67,
     "metadata": {},
     "output_type": "execute_result"
    }
   ],
   "source": [
    "set3.issubset (set1)"
   ]
  },
  {
   "cell_type": "markdown",
   "metadata": {},
   "source": [
    "#### Using the Python Set `union` method, aggregate `set3`, `set4`, and `set5`. Then aggregate `set1` and `set2`. \n",
    "\n",
    "#### Check if the aggregated values are equal."
   ]
  },
  {
   "cell_type": "code",
   "execution_count": 71,
   "metadata": {},
   "outputs": [
    {
     "name": "stdout",
     "output_type": "stream",
     "text": [
      "{1, 2, 3, 4, 6, 8, 9, 10, 11, 12, 13, 14, 15, 16, 17, 18, 19, 20, 21, 22, 23, 24, 25, 26, 28, 30, 31, 32, 33, 34, 35, 37, 38, 39, 40, 41, 42, 43, 44, 45, 46, 47, 48, 49, 50, 51, 52, 53, 54, 56, 57, 58, 59, 60, 61, 62, 63, 64, 66, 67, 68, 69, 70, 71, 72, 73, 74, 75, 76, 77, 78, 79, 80, 81, 82, 83, 84, 85, 86, 87, 89, 90, 92, 93, 94, 95, 96, 97, 98, 99}\n"
     ]
    },
    {
     "data": {
      "text/plain": [
       "True"
      ]
     },
     "execution_count": 71,
     "metadata": {},
     "output_type": "execute_result"
    }
   ],
   "source": [
    "suma1=set3.union(set4,set5)\n",
    "print (suma1)\n",
    "suma2=set1.union(set2)\n",
    "suma1==suma2"
   ]
  },
  {
   "cell_type": "markdown",
   "metadata": {},
   "source": [
    "#### Using the `pop` method, remove the first element from `set1`."
   ]
  },
  {
   "cell_type": "code",
   "execution_count": 84,
   "metadata": {},
   "outputs": [
    {
     "name": "stdout",
     "output_type": "stream",
     "text": [
      "{2, 3, 4, 6, 10, 12, 14, 15, 16, 17, 18, 20, 22, 23, 25, 26, 28, 30, 32, 33, 34, 35, 38, 40, 42, 44, 45, 46, 47, 48, 50, 52, 54, 56, 57, 58, 60, 62, 63, 66, 68, 70, 72, 73, 74, 75, 76, 77, 78, 80, 82, 83, 84, 85, 86, 87, 90, 92, 93, 94, 95, 96, 97, 98}\n",
      "{3, 4, 6, 10, 12, 14, 15, 16, 17, 18, 20, 22, 23, 25, 26, 28, 30, 32, 33, 34, 35, 38, 40, 42, 44, 45, 46, 47, 48, 50, 52, 54, 56, 57, 58, 60, 62, 63, 66, 68, 70, 72, 73, 74, 75, 76, 77, 78, 80, 82, 83, 84, 85, 86, 87, 90, 92, 93, 94, 95, 96, 97, 98}\n"
     ]
    }
   ],
   "source": [
    "print (set1)\n",
    "set1.pop ()\n",
    "print (set1)"
   ]
  },
  {
   "cell_type": "markdown",
   "metadata": {},
   "source": [
    "#### Remove every element in the following list from `set1` if they are present in the set. Print the remaining elements.\n",
    "\n",
    "```\n",
    "list_to_remove = [1, 9, 11, 19, 21, 29, 31, 39, 41, 49, 51, 59, 61, 69, 71, 79, 81, 89, 91, 99]\n",
    "```"
   ]
  },
  {
   "cell_type": "code",
   "execution_count": 88,
   "metadata": {},
   "outputs": [
    {
     "name": "stdout",
     "output_type": "stream",
     "text": [
      "{3, 4, 6, 10, 12, 14, 15, 16, 17, 18, 20, 22, 23, 25, 26, 28, 30, 32, 33, 34, 35, 38, 40, 42, 44, 45, 46, 47, 48, 50, 52, 54, 56, 57, 58, 60, 62, 63, 66, 68, 70, 72, 73, 74, 75, 76, 77, 78, 80, 82, 83, 84, 85, 86, 87, 90, 92, 93, 94, 95, 96, 97, 98}\n",
      "{1, 9, 11, 19, 21, 29, 31, 39, 41, 49, 51, 59, 61, 69, 71, 79, 81, 89, 91, 99}\n",
      "{3, 4, 6, 10, 12, 14, 15, 16, 17, 18, 20, 22, 23, 25, 26, 28, 30, 32, 33, 34, 35, 38, 40, 42, 44, 45, 46, 47, 48, 50, 52, 54, 56, 57, 58, 60, 62, 63, 66, 68, 70, 72, 73, 74, 75, 76, 77, 78, 80, 82, 83, 84, 85, 86, 87, 90, 92, 93, 94, 95, 96, 97, 98}\n",
      "{1, 9, 11, 19, 21, 29, 31, 39, 41, 49, 51, 59, 61, 69, 71, 79, 81, 89, 91, 99}\n"
     ]
    }
   ],
   "source": [
    "list_to_remove = [1, 9, 11, 19, 21, 29, 31, 39, 41, 49, 51, 59, 61, 69, 71, 79, 81, 89, 91, 99]\n",
    "listb=set(list_to_remove)\n",
    "print (set1)\n",
    "print(listb)\n",
    "listc=listb-set1\n",
    "set1=set1-listb\n",
    "print (set1)# Estos son los elementos que quedan\n",
    "print (listc)  "
   ]
  },
  {
   "cell_type": "code",
   "execution_count": null,
   "metadata": {},
   "outputs": [],
   "source": []
  }
 ],
 "metadata": {
  "kernelspec": {
   "display_name": "Python 3",
   "language": "python",
   "name": "python3"
  },
  "language_info": {
   "codemirror_mode": {
    "name": "ipython",
    "version": 3
   },
   "file_extension": ".py",
   "mimetype": "text/x-python",
   "name": "python",
   "nbconvert_exporter": "python",
   "pygments_lexer": "ipython3",
   "version": "3.8.5"
  }
 },
 "nbformat": 4,
 "nbformat_minor": 2
}
