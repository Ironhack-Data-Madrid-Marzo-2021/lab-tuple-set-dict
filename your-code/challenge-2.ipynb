{
 "cells": [
  {
   "cell_type": "markdown",
   "metadata": {},
   "source": [
    "## Challenge 2: Sets\n",
    "\n",
    "There are a lot to learn about Python Sets and the information presented in the lesson is limited due to its length. To learn Python Sets in depth you are strongly encouraged to review the W3Schools tutorial on [Python Sets Examples and Methods](https://www.w3schools.com/python/python_sets.asp) before you work on this lab. Some difficult questions in this lab have their solutions in the W3Schools tutorial.\n",
    "\n",
    "#### First, import the Python `random` libary"
   ]
  },
  {
   "cell_type": "code",
   "execution_count": 2,
   "metadata": {},
   "outputs": [],
   "source": [
    "import random"
   ]
  },
  {
   "cell_type": "markdown",
   "metadata": {},
   "source": [
    "#### In the cell below, create a list named `sample_list_1` with 80 random values. \n",
    "\n",
    "Requirements:\n",
    "\n",
    "* Each value is an integer falling between 0 and 100.\n",
    "* Each value in the list is unique.\n",
    "\n",
    "Print `sample_list_1` to review its values\n",
    "\n",
    "*Hint: use `random.sample` ([reference](https://docs.python.org/3/library/random.html#random.sample)).*"
   ]
  },
  {
   "cell_type": "code",
   "execution_count": 3,
   "metadata": {},
   "outputs": [
    {
     "name": "stdout",
     "output_type": "stream",
     "text": [
      "[93, 95, 17, 16, 79, 32, 98, 8, 90, 57, 24, 10, 40, 81, 5, 68, 23, 92, 21, 46, 58, 43, 37, 60, 42, 85, 44, 83, 51, 76, 55, 70, 11, 22, 12, 82, 50, 15, 64, 52, 86, 72, 61, 89, 49, 66, 4, 73, 67, 38, 69, 84, 26, 87, 78, 65, 31, 34, 25, 14, 45, 53, 41, 71, 6, 18, 2, 3, 75, 94, 13, 9, 36, 27, 19, 48, 30, 33, 54, 97]\n"
     ]
    }
   ],
   "source": [
    "# Your code here\n",
    "sample_list_1 = random.sample(range(100), 80)\n",
    "print (sample_list_1)"
   ]
  },
  {
   "cell_type": "markdown",
   "metadata": {},
   "source": [
    "#### Convert `sample_list_1` to a set called `set1`. Print the length of the set. Is its length still 80?"
   ]
  },
  {
   "cell_type": "code",
   "execution_count": 4,
   "metadata": {},
   "outputs": [
    {
     "name": "stdout",
     "output_type": "stream",
     "text": [
      "80\n"
     ]
    }
   ],
   "source": [
    "# Your code here\n",
    "set1 = set(sample_list_1)\n",
    "print(len(set1))"
   ]
  },
  {
   "cell_type": "markdown",
   "metadata": {},
   "source": [
    "#### Create another list named `sample_list_2` with 80 random values.\n",
    "\n",
    "Requirements:\n",
    "\n",
    "* Each value is an integer falling between 0 and 100.\n",
    "* The values in the list don't have to be unique.\n",
    "\n",
    "*Hint: Use a FOR loop.*"
   ]
  },
  {
   "cell_type": "code",
   "execution_count": 5,
   "metadata": {},
   "outputs": [
    {
     "name": "stdout",
     "output_type": "stream",
     "text": [
      "[91, 95, 79, 28, 60, 77, 62, 19, 90, 76, 14, 50, 24, 9, 24, 45, 29, 45, 50, 84, 5, 58, 83, 50, 99, 14, 13, 92, 0, 65, 80, 53, 67, 25, 98, 85, 21, 50, 96, 30, 64, 42, 61, 87, 16, 5, 53, 80, 82, 82, 26, 77, 78, 44, 89, 97, 85, 4, 9, 41, 4, 61, 36, 27, 60, 97, 46, 32, 16, 80, 78, 64, 28, 72, 100, 15, 31, 82, 47, 3]\n"
     ]
    }
   ],
   "source": [
    "# Your code here\n",
    "\n",
    "sample_list_2 = []\n",
    "\n",
    "\n",
    "for i in range(80):\n",
    "    \n",
    "    sample_list_2.append(random.randint(0, 100))\n",
    "    \n",
    "print (sample_list_2)"
   ]
  },
  {
   "cell_type": "markdown",
   "metadata": {},
   "source": [
    "#### Convert `sample_list_2` to a set called `set2`. Print the length of the set. Is its length still 80?"
   ]
  },
  {
   "cell_type": "code",
   "execution_count": 6,
   "metadata": {},
   "outputs": [
    {
     "name": "stdout",
     "output_type": "stream",
     "text": [
      "57\n"
     ]
    }
   ],
   "source": [
    "# Your code here\n",
    "set2 = set(sample_list_2)\n",
    "print (len(set2))"
   ]
  },
  {
   "cell_type": "markdown",
   "metadata": {},
   "source": [
    "#### Identify the elements present in `set1` but not in `set2`. Assign the elements to a new set named `set3`."
   ]
  },
  {
   "cell_type": "code",
   "execution_count": 7,
   "metadata": {},
   "outputs": [
    {
     "name": "stdout",
     "output_type": "stream",
     "text": [
      "{2, 6, 8, 10, 11, 12, 17, 18, 22, 23, 33, 34, 37, 38, 40, 43, 48, 49, 51, 52, 54, 55, 57, 66, 68, 69, 70, 71, 73, 75, 81, 86, 93, 94}\n"
     ]
    },
    {
     "data": {
      "text/plain": [
       "34"
      ]
     },
     "execution_count": 7,
     "metadata": {},
     "output_type": "execute_result"
    }
   ],
   "source": [
    "# Your code here\n",
    "set3 = set(set1.difference(set2))\n",
    "print (set3)\n",
    "len(set3)"
   ]
  },
  {
   "cell_type": "markdown",
   "metadata": {},
   "source": [
    "#### Identify the elements present in `set2` but not in `set1`. Assign the elements to a new set named `set4`."
   ]
  },
  {
   "cell_type": "code",
   "execution_count": 8,
   "metadata": {},
   "outputs": [
    {
     "name": "stdout",
     "output_type": "stream",
     "text": [
      "{0, 96, 99, 100, 77, 47, 80, 91, 28, 29, 62}\n"
     ]
    },
    {
     "data": {
      "text/plain": [
       "11"
      ]
     },
     "execution_count": 8,
     "metadata": {},
     "output_type": "execute_result"
    }
   ],
   "source": [
    "# Your code here\n",
    "set4 = set(set2.difference(set1))\n",
    "print (set4)\n",
    "len(set4)"
   ]
  },
  {
   "cell_type": "markdown",
   "metadata": {},
   "source": [
    "#### Now Identify the elements shared between `set1` and `set2`. Assign the elements to a new set named `set5`."
   ]
  },
  {
   "cell_type": "code",
   "execution_count": 9,
   "metadata": {},
   "outputs": [
    {
     "name": "stdout",
     "output_type": "stream",
     "text": [
      "{3, 4, 5, 9, 13, 14, 15, 16, 19, 21, 24, 25, 26, 27, 30, 31, 32, 36, 41, 42, 44, 45, 46, 50, 53, 58, 60, 61, 64, 65, 67, 72, 76, 78, 79, 82, 83, 84, 85, 87, 89, 90, 92, 95, 97, 98}\n"
     ]
    },
    {
     "data": {
      "text/plain": [
       "46"
      ]
     },
     "execution_count": 9,
     "metadata": {},
     "output_type": "execute_result"
    }
   ],
   "source": [
    "# Your code here\n",
    "set5 = set(set1.intersection(set2))\n",
    "print (set5)\n",
    "len(set5)"
   ]
  },
  {
   "cell_type": "markdown",
   "metadata": {},
   "source": [
    "#### What is the relationship among the following values:\n",
    "\n",
    "* len(set1)\n",
    "* len(set2)\n",
    "* len(set3)\n",
    "* len(set4)\n",
    "* len(set5)\n",
    "\n",
    "Use a math formular to represent that relationship. Test your formular with Python code."
   ]
  },
  {
   "cell_type": "code",
   "execution_count": 11,
   "metadata": {},
   "outputs": [
    {
     "name": "stdout",
     "output_type": "stream",
     "text": [
      "True\n",
      "True\n",
      "True\n",
      "True\n",
      "True\n",
      "91\n",
      "10\n",
      "True\n",
      "80\n",
      "57\n",
      "34\n",
      "11\n",
      "46\n"
     ]
    }
   ],
   "source": [
    "# Your code here\n",
    "conjunto_a = set1\n",
    "conjunto_b = set2\n",
    "subconjunto_a_menos_b = set3\n",
    "subconjunto_b_menos_a = set4\n",
    "subconjunto_a_interseccion_b = set5\n",
    "conjunto_total = set(set3.union(set4.union(set5)))\n",
    "#print(len(conjunto_total))\n",
    "\n",
    "# la muestra no puede ser superior a 100, así que los elementos exclusivos del conjunto a\n",
    "# más los elementos exclusivos de b más los elementos compartidos no puede ser superior a la muestra.\n",
    "muestra = 101 #(como va del 0 al 100 hay 101 elementos)\n",
    "\n",
    "print(len(subconjunto_b_menos_a) + len(subconjunto_a_menos_b) + len(subconjunto_a_interseccion_b) < muestra)\n",
    "\n",
    "# el subconjunto de a menos b tiene que ser igual a los elementos de a menos los elementos compartidos de a con b\n",
    "print(len(subconjunto_a_menos_b) == len(conjunto_a) - len(subconjunto_a_interseccion_b))\n",
    "\n",
    "# el subconjunto de b menos a tiene que ser igual a los elementos de b menos los elementos compartidos de a con b\n",
    "print(len(subconjunto_b_menos_a) == len(conjunto_b) - len(subconjunto_a_interseccion_b))\n",
    "\n",
    "#el conjunto a tiene que ser la suma de los elementos que no comparte con b y de los elementos que si comparte con b\n",
    "print(len(conjunto_a) == len(subconjunto_a_menos_b) + len(subconjunto_a_interseccion_b))\n",
    "\n",
    "#el conjunto b tiene que ser la suma de los elementos que no comparte con a y de los elementos que si comparte con a\n",
    "print(len(conjunto_b) == len(subconjunto_b_menos_a) + len(subconjunto_a_interseccion_b))\n",
    "\n",
    "# el conjunto que voy a llamar total creado por a y b será la suma de los elementos exclusivos de a mas los elementos\n",
    "# exclusivos de b más la suma de los elementos compartidos por a y b\n",
    "conjunto_total = set3.union(set4.union(set5))\n",
    "print(len(conjunto_total))\n",
    "\n",
    "# los elementos de la muestra no incluidos en los conjuntos a y b los podemos calcular restando a la muestra a menos b\n",
    "#más b menos a y la intersección de a y b\n",
    "#excluidos = muestra - conjunto_total\n",
    "\n",
    "# y vamos a comprobarlo buscando los números que faltan y metiéndolos en una lista nueva y luego comprobando si\n",
    "# la muestra es igual al tamaño total más los excluidos\n",
    "conjunto_excluidos = set()\n",
    "for i in range (100):\n",
    "    if i not in conjunto_total:\n",
    "        conjunto_excluidos.add(i)\n",
    "print (len(conjunto_excluidos))\n",
    "\n",
    "print (muestra == len(conjunto_total)+len(conjunto_excluidos))\n",
    "\n",
    "print (len(set1))\n",
    "print (len(set2))\n",
    "print (len(set3))\n",
    "print (len(set4))\n",
    "print (len(set5))\n"
   ]
  },
  {
   "cell_type": "markdown",
   "metadata": {},
   "source": [
    "#### Create an empty set called `set6`."
   ]
  },
  {
   "cell_type": "code",
   "execution_count": 63,
   "metadata": {},
   "outputs": [
    {
     "data": {
      "text/plain": [
       "set"
      ]
     },
     "execution_count": 63,
     "metadata": {},
     "output_type": "execute_result"
    }
   ],
   "source": [
    "# Your code here\n",
    "set6 = set()\n",
    "type(set6)"
   ]
  },
  {
   "cell_type": "markdown",
   "metadata": {},
   "source": [
    "#### Add `set3` and `set5` to `set6` using the Python Set `update` method."
   ]
  },
  {
   "cell_type": "code",
   "execution_count": 19,
   "metadata": {},
   "outputs": [
    {
     "name": "stdout",
     "output_type": "stream",
     "text": [
      "<class 'set'>\n"
     ]
    }
   ],
   "source": [
    "# Your code here\n",
    "set6 = set()\n",
    "set6.update(set3, set5)\n",
    "print (type(set6))"
   ]
  },
  {
   "cell_type": "markdown",
   "metadata": {},
   "source": [
    "#### Check if `set1` and `set6` are equal."
   ]
  },
  {
   "cell_type": "code",
   "execution_count": 20,
   "metadata": {},
   "outputs": [
    {
     "data": {
      "text/plain": [
       "True"
      ]
     },
     "execution_count": 20,
     "metadata": {},
     "output_type": "execute_result"
    }
   ],
   "source": [
    "# Your code here\n",
    "set1 == set6"
   ]
  },
  {
   "cell_type": "markdown",
   "metadata": {},
   "source": [
    "#### Check if `set1` contains `set2` using the Python Set `issubset` method. Then check if `set1` contains `set3`.*"
   ]
  },
  {
   "cell_type": "code",
   "execution_count": 23,
   "metadata": {},
   "outputs": [
    {
     "name": "stdout",
     "output_type": "stream",
     "text": [
      "False\n",
      "True\n"
     ]
    }
   ],
   "source": [
    "# Your code here\n",
    "print(set2.issubset(set1))\n",
    "print(set3.issubset(set1))"
   ]
  },
  {
   "cell_type": "markdown",
   "metadata": {},
   "source": [
    "#### Using the Python Set `union` method, aggregate `set3`, `set4`, and `set5`. Then aggregate `set1` and `set2`. \n",
    "\n",
    "#### Check if the aggregated values are equal."
   ]
  },
  {
   "cell_type": "code",
   "execution_count": 28,
   "metadata": {},
   "outputs": [
    {
     "name": "stdout",
     "output_type": "stream",
     "text": [
      "True\n"
     ]
    }
   ],
   "source": [
    "# Your code here\n",
    "union_01 = set3.union(set4.union(set5))\n",
    "union_02 = set1.union(set2)\n",
    "#print (union_01)\n",
    "#print (union_02)\n",
    "print (union_01 == union_02)"
   ]
  },
  {
   "cell_type": "markdown",
   "metadata": {},
   "source": [
    "#### Using the `pop` method, remove the first element from `set1`."
   ]
  },
  {
   "cell_type": "code",
   "execution_count": 30,
   "metadata": {},
   "outputs": [
    {
     "data": {
      "text/plain": [
       "3"
      ]
     },
     "execution_count": 30,
     "metadata": {},
     "output_type": "execute_result"
    }
   ],
   "source": [
    "# Your code here\n",
    "set1.pop()"
   ]
  },
  {
   "cell_type": "markdown",
   "metadata": {},
   "source": [
    "#### Remove every element in the following list from `set1` if they are present in the set. Print the remaining elements.\n",
    "\n",
    "```\n",
    "list_to_remove = [1, 9, 11, 19, 21, 29, 31, 39, 41, 49, 51, 59, 61, 69, 71, 79, 81, 89, 91, 99]\n",
    "```"
   ]
  },
  {
   "cell_type": "code",
   "execution_count": 32,
   "metadata": {},
   "outputs": [
    {
     "name": "stdout",
     "output_type": "stream",
     "text": [
      "{4, 5, 6, 8, 10, 12, 13, 14, 15, 16, 17, 18, 22, 23, 24, 25, 26, 27, 30, 32, 33, 34, 36, 37, 38, 40, 42, 43, 44, 45, 46, 48, 50, 52, 53, 54, 55, 57, 58, 60, 64, 65, 66, 67, 68, 70, 72, 73, 75, 76, 78, 82, 83, 84, 85, 86, 87, 90, 92, 93, 94, 95, 97, 98}\n"
     ]
    }
   ],
   "source": [
    "# Your code here\n",
    "\n",
    "list_to_remove = [1, 9, 11, 19, 21, 29, 31, 39, 41, 49, 51, 59, 61, 69, 71, 79, 81, 89, 91, 99]\n",
    "\n",
    "for i in list_to_remove:\n",
    "    if i in set1:\n",
    "        set1.remove(i)\n",
    "print(set1)"
   ]
  },
  {
   "cell_type": "code",
   "execution_count": null,
   "metadata": {},
   "outputs": [],
   "source": []
  }
 ],
 "metadata": {
  "kernelspec": {
   "display_name": "Python 3",
   "language": "python",
   "name": "python3"
  },
  "language_info": {
   "codemirror_mode": {
    "name": "ipython",
    "version": 3
   },
   "file_extension": ".py",
   "mimetype": "text/x-python",
   "name": "python",
   "nbconvert_exporter": "python",
   "pygments_lexer": "ipython3",
   "version": "3.8.5"
  }
 },
 "nbformat": 4,
 "nbformat_minor": 2
}
